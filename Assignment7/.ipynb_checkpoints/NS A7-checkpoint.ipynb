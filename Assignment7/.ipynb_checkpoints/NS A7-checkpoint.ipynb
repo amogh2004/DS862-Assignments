{
 "cells": [
  {
   "cell_type": "code",
   "execution_count": 1,
   "id": "16bb4534",
   "metadata": {},
   "outputs": [
    {
     "name": "stdout",
     "output_type": "stream",
     "text": [
      "Bag-of-Words Naive Bayes\n",
      "Accuracy: 0.795\n",
      "              precision    recall  f1-score   support\n",
      "\n",
      "         0.0       0.76      0.84      0.80        96\n",
      "         1.0       0.84      0.75      0.79       104\n",
      "\n",
      "    accuracy                           0.80       200\n",
      "   macro avg       0.80      0.80      0.79       200\n",
      "weighted avg       0.80      0.80      0.79       200\n",
      "\n",
      "TF-IDF Naive Bayes\n",
      "Accuracy: 0.695\n",
      "              precision    recall  f1-score   support\n",
      "\n",
      "         0.0       0.73      0.57      0.64        96\n",
      "         1.0       0.67      0.81      0.73       104\n",
      "\n",
      "    accuracy                           0.69       200\n",
      "   macro avg       0.70      0.69      0.69       200\n",
      "weighted avg       0.70      0.69      0.69       200\n",
      "\n"
     ]
    }
   ],
   "source": [
    "import numpy as np\n",
    "import pandas as pd\n",
    "from sklearn.model_selection import train_test_split\n",
    "from sklearn.feature_extraction.text import CountVectorizer, TfidfVectorizer\n",
    "from sklearn.naive_bayes import MultinomialNB, GaussianNB\n",
    "from sklearn.metrics import accuracy_score, classification_report\n",
    "from sklearn.pipeline import Pipeline\n",
    "from sklearn.preprocessing import FunctionTransformer\n",
    "\n",
    "# Load the data\n",
    "yelp_data = pd.read_csv('yelp_labelled.txt', sep=\"\\t\", names=['text', 'sentiment'])\n",
    "yelp_data.dropna(inplace=True)  # Drop missing values\n",
    "\n",
    "# Separate the data into train and test sets\n",
    "X = yelp_data['text']\n",
    "y = yelp_data['sentiment']\n",
    "X_train, X_test, y_train, y_test = train_test_split(X, y, test_size=0.2, random_state=42)\n",
    "\n",
    "# Bag-of-Words with Naive Bayes (MultinomialNB)\n",
    "bow_pipeline = Pipeline([\n",
    "    ('vectorizer', CountVectorizer()),\n",
    "    ('classifier', MultinomialNB())\n",
    "])\n",
    "\n",
    "# Train and evaluate\n",
    "bow_pipeline.fit(X_train, y_train)\n",
    "y_pred_bow = bow_pipeline.predict(X_test)\n",
    "print(\"Bag-of-Words Naive Bayes\")\n",
    "print(\"Accuracy:\", accuracy_score(y_test, y_pred_bow))\n",
    "print(classification_report(y_test, y_pred_bow))\n",
    "\n",
    "# TF-IDF with Naive Bayes (GaussianNB requires dense input)\n",
    "tfidf_pipeline = Pipeline([\n",
    "    ('vectorizer', TfidfVectorizer()),\n",
    "    ('to_dense', FunctionTransformer(lambda x: x.toarray(), accept_sparse=True)),\n",
    "    ('classifier', GaussianNB())\n",
    "])\n",
    "\n",
    "# Train and evaluate\n",
    "tfidf_pipeline.fit(X_train, y_train)\n",
    "y_pred_tfidf = tfidf_pipeline.predict(X_test)\n",
    "print(\"TF-IDF Naive Bayes\")\n",
    "print(\"Accuracy:\", accuracy_score(y_test, y_pred_tfidf))\n",
    "print(classification_report(y_test, y_pred_tfidf))\n"
   ]
  },
  {
   "cell_type": "code",
   "execution_count": null,
   "id": "373f1f02",
   "metadata": {},
   "outputs": [],
   "source": []
  }
 ],
 "metadata": {
  "kernelspec": {
   "display_name": "Python 3 (ipykernel)",
   "language": "python",
   "name": "python3"
  },
  "language_info": {
   "codemirror_mode": {
    "name": "ipython",
    "version": 3
   },
   "file_extension": ".py",
   "mimetype": "text/x-python",
   "name": "python",
   "nbconvert_exporter": "python",
   "pygments_lexer": "ipython3",
   "version": "3.11.7"
  }
 },
 "nbformat": 4,
 "nbformat_minor": 5
}
